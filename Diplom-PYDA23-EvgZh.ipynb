{
 "cells": [
  {
   "cell_type": "code",
   "execution_count": 198,
   "metadata": {
    "colab": {
     "base_uri": "https://localhost:8080/"
    },
    "executionInfo": {
     "elapsed": 3749,
     "status": "ok",
     "timestamp": 1633103879187,
     "user": {
      "displayName": "Evg Zh",
      "photoUrl": "https://lh3.googleusercontent.com/a-/AOh14GjqSleym33sYsUX8b6dzPaw4QRJTmgqx8mD-f7C=s64",
      "userId": "15889342803596205096"
     },
     "user_tz": -420
    },
    "id": "48MXbLMSiWzr",
    "outputId": "6ece76b4-1567-4427-daa4-3cbc39f52d6d"
   },
   "outputs": [],
   "source": [
    "# !pip install --upgrade scipy"
   ]
  },
  {
   "cell_type": "markdown",
   "metadata": {
    "id": "wOd0Hgskgc6J"
   },
   "source": [
    "# Задание\n",
    "Дан файл HR.csv с данными по опросу уровня удовлетворенности сотрудниками работой.Файл доступен тут -https://drive.google.com/file/d/1INgo03nal-vwFJe7Lec5vOUtOwfJdUr1/view?usp=sharing\n",
    "\n",
    "# Признаки:\n",
    "1.satisfaction_level​ - Уровень удовлетворенности работой\n",
    "\n",
    "2.Last_evaluation ​- Время с момента последней оценки в годах\n",
    "\n",
    "3.number_projects​ - Количество проектов, выполненных за время работы\n",
    "\n",
    "4.average_monthly_hours​ - Среднее количество часов на рабочем месте в месяц\n",
    "\n",
    "5.time_spend_company​ - Стаж работы в компании в годах\n",
    "\n",
    "6.work_accident​ - Происходили ли несчастные случаи на рабочем месте с сотрудником\n",
    "\n",
    "7.left​ - уволился ли сотрудник\n",
    "\n",
    "8.promotion_last_5years​ - повышался ли сотрудник за последние пять лет\n",
    "\n",
    "9.department ​- отдел в котором работает сотрудник\n",
    "\n",
    "10.salary​ - относительный уровень зарплаты\n",
    "\n",
    "---\n",
    "\n"
   ]
  },
  {
   "cell_type": "markdown",
   "metadata": {
    "id": "iV271mfUg2NY"
   },
   "source": [
    "# Задание\n",
    "\n",
    "Построить модель LDA, предсказывающую уволился ли сотрудник на основе имеющихся факторов (кроме department иsalary)\n",
    "\n",
    "Оценить качество модели на тестовой выборки2010\n",
    "\n",
    "Загрузить jupyter notebook с решение на github и прислать ссылку5"
   ]
  },
  {
   "cell_type": "code",
   "execution_count": 199,
   "metadata": {
    "id": "txfqkj36gQ2R"
   },
   "outputs": [],
   "source": [
    "# ***************Блок модулей\n",
    "# Общие модули\n",
    "import pandas as pd\n",
    "import numpy as np\n",
    "import collections\n",
    "\n",
    "# Графические\n",
    "import matplotlib.pyplot as plt\n",
    "import seaborn as sns\n",
    "import pylab as pl\n",
    "%matplotlib inline\n",
    "\n",
    "# Статистические\n",
    "from scipy import stats as st"
   ]
  },
  {
   "cell_type": "code",
   "execution_count": 200,
   "metadata": {
    "colab": {
     "base_uri": "https://localhost:8080/",
     "height": 439
    },
    "executionInfo": {
     "elapsed": 60,
     "status": "ok",
     "timestamp": 1633103879197,
     "user": {
      "displayName": "Evg Zh",
      "photoUrl": "https://lh3.googleusercontent.com/a-/AOh14GjqSleym33sYsUX8b6dzPaw4QRJTmgqx8mD-f7C=s64",
      "userId": "15889342803596205096"
     },
     "user_tz": -420
    },
    "id": "DoK_hQ3TiJFO",
    "outputId": "9686320a-2208-4866-fe98-e3245bf70a80"
   },
   "outputs": [
    {
     "data": {
      "text/html": [
       "<div>\n",
       "<style scoped>\n",
       "    .dataframe tbody tr th:only-of-type {\n",
       "        vertical-align: middle;\n",
       "    }\n",
       "\n",
       "    .dataframe tbody tr th {\n",
       "        vertical-align: top;\n",
       "    }\n",
       "\n",
       "    .dataframe thead th {\n",
       "        text-align: right;\n",
       "    }\n",
       "</style>\n",
       "<table border=\"1\" class=\"dataframe\">\n",
       "  <thead>\n",
       "    <tr style=\"text-align: right;\">\n",
       "      <th></th>\n",
       "      <th>satisfaction_level</th>\n",
       "      <th>last_evaluation</th>\n",
       "      <th>number_project</th>\n",
       "      <th>average_montly_hours</th>\n",
       "      <th>time_spend_company</th>\n",
       "      <th>Work_accident</th>\n",
       "      <th>left</th>\n",
       "      <th>promotion_last_5years</th>\n",
       "      <th>department</th>\n",
       "      <th>salary</th>\n",
       "    </tr>\n",
       "  </thead>\n",
       "  <tbody>\n",
       "    <tr>\n",
       "      <th>0</th>\n",
       "      <td>0.38</td>\n",
       "      <td>0.53</td>\n",
       "      <td>2</td>\n",
       "      <td>157</td>\n",
       "      <td>3</td>\n",
       "      <td>0</td>\n",
       "      <td>1</td>\n",
       "      <td>0</td>\n",
       "      <td>sales</td>\n",
       "      <td>low</td>\n",
       "    </tr>\n",
       "    <tr>\n",
       "      <th>1</th>\n",
       "      <td>0.80</td>\n",
       "      <td>0.86</td>\n",
       "      <td>5</td>\n",
       "      <td>262</td>\n",
       "      <td>6</td>\n",
       "      <td>0</td>\n",
       "      <td>1</td>\n",
       "      <td>0</td>\n",
       "      <td>sales</td>\n",
       "      <td>medium</td>\n",
       "    </tr>\n",
       "    <tr>\n",
       "      <th>2</th>\n",
       "      <td>0.11</td>\n",
       "      <td>0.88</td>\n",
       "      <td>7</td>\n",
       "      <td>272</td>\n",
       "      <td>4</td>\n",
       "      <td>0</td>\n",
       "      <td>1</td>\n",
       "      <td>0</td>\n",
       "      <td>sales</td>\n",
       "      <td>medium</td>\n",
       "    </tr>\n",
       "    <tr>\n",
       "      <th>3</th>\n",
       "      <td>0.72</td>\n",
       "      <td>0.87</td>\n",
       "      <td>5</td>\n",
       "      <td>223</td>\n",
       "      <td>5</td>\n",
       "      <td>0</td>\n",
       "      <td>1</td>\n",
       "      <td>0</td>\n",
       "      <td>sales</td>\n",
       "      <td>low</td>\n",
       "    </tr>\n",
       "    <tr>\n",
       "      <th>4</th>\n",
       "      <td>0.37</td>\n",
       "      <td>0.52</td>\n",
       "      <td>2</td>\n",
       "      <td>159</td>\n",
       "      <td>3</td>\n",
       "      <td>0</td>\n",
       "      <td>1</td>\n",
       "      <td>0</td>\n",
       "      <td>sales</td>\n",
       "      <td>low</td>\n",
       "    </tr>\n",
       "    <tr>\n",
       "      <th>...</th>\n",
       "      <td>...</td>\n",
       "      <td>...</td>\n",
       "      <td>...</td>\n",
       "      <td>...</td>\n",
       "      <td>...</td>\n",
       "      <td>...</td>\n",
       "      <td>...</td>\n",
       "      <td>...</td>\n",
       "      <td>...</td>\n",
       "      <td>...</td>\n",
       "    </tr>\n",
       "    <tr>\n",
       "      <th>14994</th>\n",
       "      <td>0.40</td>\n",
       "      <td>0.57</td>\n",
       "      <td>2</td>\n",
       "      <td>151</td>\n",
       "      <td>3</td>\n",
       "      <td>0</td>\n",
       "      <td>1</td>\n",
       "      <td>0</td>\n",
       "      <td>support</td>\n",
       "      <td>low</td>\n",
       "    </tr>\n",
       "    <tr>\n",
       "      <th>14995</th>\n",
       "      <td>0.37</td>\n",
       "      <td>0.48</td>\n",
       "      <td>2</td>\n",
       "      <td>160</td>\n",
       "      <td>3</td>\n",
       "      <td>0</td>\n",
       "      <td>1</td>\n",
       "      <td>0</td>\n",
       "      <td>support</td>\n",
       "      <td>low</td>\n",
       "    </tr>\n",
       "    <tr>\n",
       "      <th>14996</th>\n",
       "      <td>0.37</td>\n",
       "      <td>0.53</td>\n",
       "      <td>2</td>\n",
       "      <td>143</td>\n",
       "      <td>3</td>\n",
       "      <td>0</td>\n",
       "      <td>1</td>\n",
       "      <td>0</td>\n",
       "      <td>support</td>\n",
       "      <td>low</td>\n",
       "    </tr>\n",
       "    <tr>\n",
       "      <th>14997</th>\n",
       "      <td>0.11</td>\n",
       "      <td>0.96</td>\n",
       "      <td>6</td>\n",
       "      <td>280</td>\n",
       "      <td>4</td>\n",
       "      <td>0</td>\n",
       "      <td>1</td>\n",
       "      <td>0</td>\n",
       "      <td>support</td>\n",
       "      <td>low</td>\n",
       "    </tr>\n",
       "    <tr>\n",
       "      <th>14998</th>\n",
       "      <td>0.37</td>\n",
       "      <td>0.52</td>\n",
       "      <td>2</td>\n",
       "      <td>158</td>\n",
       "      <td>3</td>\n",
       "      <td>0</td>\n",
       "      <td>1</td>\n",
       "      <td>0</td>\n",
       "      <td>support</td>\n",
       "      <td>low</td>\n",
       "    </tr>\n",
       "  </tbody>\n",
       "</table>\n",
       "<p>14999 rows × 10 columns</p>\n",
       "</div>"
      ],
      "text/plain": [
       "       satisfaction_level  last_evaluation  number_project  \\\n",
       "0                    0.38             0.53               2   \n",
       "1                    0.80             0.86               5   \n",
       "2                    0.11             0.88               7   \n",
       "3                    0.72             0.87               5   \n",
       "4                    0.37             0.52               2   \n",
       "...                   ...              ...             ...   \n",
       "14994                0.40             0.57               2   \n",
       "14995                0.37             0.48               2   \n",
       "14996                0.37             0.53               2   \n",
       "14997                0.11             0.96               6   \n",
       "14998                0.37             0.52               2   \n",
       "\n",
       "       average_montly_hours  time_spend_company  Work_accident  left  \\\n",
       "0                       157                   3              0     1   \n",
       "1                       262                   6              0     1   \n",
       "2                       272                   4              0     1   \n",
       "3                       223                   5              0     1   \n",
       "4                       159                   3              0     1   \n",
       "...                     ...                 ...            ...   ...   \n",
       "14994                   151                   3              0     1   \n",
       "14995                   160                   3              0     1   \n",
       "14996                   143                   3              0     1   \n",
       "14997                   280                   4              0     1   \n",
       "14998                   158                   3              0     1   \n",
       "\n",
       "       promotion_last_5years department  salary  \n",
       "0                          0      sales     low  \n",
       "1                          0      sales  medium  \n",
       "2                          0      sales  medium  \n",
       "3                          0      sales     low  \n",
       "4                          0      sales     low  \n",
       "...                      ...        ...     ...  \n",
       "14994                      0    support     low  \n",
       "14995                      0    support     low  \n",
       "14996                      0    support     low  \n",
       "14997                      0    support     low  \n",
       "14998                      0    support     low  \n",
       "\n",
       "[14999 rows x 10 columns]"
      ]
     },
     "execution_count": 200,
     "metadata": {},
     "output_type": "execute_result"
    }
   ],
   "source": [
    "# 1 Загрузите файл HR.csv в pandas dataframe5\n",
    "df = pd.read_csv('HR.csv')\n",
    "df"
   ]
  },
  {
   "cell_type": "code",
   "execution_count": 201,
   "metadata": {
    "colab": {
     "base_uri": "https://localhost:8080/"
    },
    "executionInfo": {
     "elapsed": 354,
     "status": "ok",
     "timestamp": 1633104019079,
     "user": {
      "displayName": "Evg Zh",
      "photoUrl": "https://lh3.googleusercontent.com/a-/AOh14GjqSleym33sYsUX8b6dzPaw4QRJTmgqx8mD-f7C=s64",
      "userId": "15889342803596205096"
     },
     "user_tz": -420
    },
    "id": "krjy8iS3lZe-",
    "outputId": "0a03273d-3151-4b17-908e-dac6216f86ad"
   },
   "outputs": [
    {
     "name": "stdout",
     "output_type": "stream",
     "text": [
      "<class 'pandas.core.frame.DataFrame'>\n",
      "RangeIndex: 14999 entries, 0 to 14998\n",
      "Data columns (total 10 columns):\n",
      " #   Column                 Non-Null Count  Dtype  \n",
      "---  ------                 --------------  -----  \n",
      " 0   satisfaction_level     14999 non-null  float64\n",
      " 1   last_evaluation        14999 non-null  float64\n",
      " 2   number_project         14999 non-null  int64  \n",
      " 3   average_montly_hours   14999 non-null  int64  \n",
      " 4   time_spend_company     14999 non-null  int64  \n",
      " 5   Work_accident          14999 non-null  int64  \n",
      " 6   left                   14999 non-null  int64  \n",
      " 7   promotion_last_5years  14999 non-null  int64  \n",
      " 8   department             14999 non-null  object \n",
      " 9   salary                 14999 non-null  object \n",
      "dtypes: float64(2), int64(6), object(2)\n",
      "memory usage: 1.1+ MB\n"
     ]
    }
   ],
   "source": [
    "df.info()\n",
    "\n",
    "# Анализ пропусков в данных\n",
    "# Пропусков нет"
   ]
  },
  {
   "cell_type": "code",
   "execution_count": 202,
   "metadata": {
    "colab": {
     "base_uri": "https://localhost:8080/",
     "height": 487
    },
    "executionInfo": {
     "elapsed": 353,
     "status": "ok",
     "timestamp": 1633105017884,
     "user": {
      "displayName": "Evg Zh",
      "photoUrl": "https://lh3.googleusercontent.com/a-/AOh14GjqSleym33sYsUX8b6dzPaw4QRJTmgqx8mD-f7C=s64",
      "userId": "15889342803596205096"
     },
     "user_tz": -420
    },
    "id": "WmAwDceTkKyg",
    "outputId": "08555a2e-14ee-4b71-901d-5e61b7592e81"
   },
   "outputs": [
    {
     "data": {
      "text/html": [
       "<div>\n",
       "<style scoped>\n",
       "    .dataframe tbody tr th:only-of-type {\n",
       "        vertical-align: middle;\n",
       "    }\n",
       "\n",
       "    .dataframe tbody tr th {\n",
       "        vertical-align: top;\n",
       "    }\n",
       "\n",
       "    .dataframe thead th {\n",
       "        text-align: right;\n",
       "    }\n",
       "</style>\n",
       "<table border=\"1\" class=\"dataframe\">\n",
       "  <thead>\n",
       "    <tr style=\"text-align: right;\">\n",
       "      <th></th>\n",
       "      <th>satisfaction_level</th>\n",
       "      <th>last_evaluation</th>\n",
       "      <th>number_project</th>\n",
       "      <th>average_montly_hours</th>\n",
       "      <th>time_spend_company</th>\n",
       "      <th>Work_accident</th>\n",
       "      <th>left</th>\n",
       "      <th>promotion_last_5years</th>\n",
       "    </tr>\n",
       "  </thead>\n",
       "  <tbody>\n",
       "    <tr>\n",
       "      <th>count</th>\n",
       "      <td>14999.000000</td>\n",
       "      <td>14999.000000</td>\n",
       "      <td>14999.000000</td>\n",
       "      <td>14999.000000</td>\n",
       "      <td>14999.000000</td>\n",
       "      <td>14999.000000</td>\n",
       "      <td>14999.000000</td>\n",
       "      <td>14999.000000</td>\n",
       "    </tr>\n",
       "    <tr>\n",
       "      <th>mean</th>\n",
       "      <td>0.612834</td>\n",
       "      <td>0.716102</td>\n",
       "      <td>3.803054</td>\n",
       "      <td>201.050337</td>\n",
       "      <td>3.498233</td>\n",
       "      <td>0.144610</td>\n",
       "      <td>0.238083</td>\n",
       "      <td>0.021268</td>\n",
       "    </tr>\n",
       "    <tr>\n",
       "      <th>std</th>\n",
       "      <td>0.248631</td>\n",
       "      <td>0.171169</td>\n",
       "      <td>1.232592</td>\n",
       "      <td>49.943099</td>\n",
       "      <td>1.460136</td>\n",
       "      <td>0.351719</td>\n",
       "      <td>0.425924</td>\n",
       "      <td>0.144281</td>\n",
       "    </tr>\n",
       "    <tr>\n",
       "      <th>min</th>\n",
       "      <td>0.090000</td>\n",
       "      <td>0.360000</td>\n",
       "      <td>2.000000</td>\n",
       "      <td>96.000000</td>\n",
       "      <td>2.000000</td>\n",
       "      <td>0.000000</td>\n",
       "      <td>0.000000</td>\n",
       "      <td>0.000000</td>\n",
       "    </tr>\n",
       "    <tr>\n",
       "      <th>25%</th>\n",
       "      <td>0.440000</td>\n",
       "      <td>0.560000</td>\n",
       "      <td>3.000000</td>\n",
       "      <td>156.000000</td>\n",
       "      <td>3.000000</td>\n",
       "      <td>0.000000</td>\n",
       "      <td>0.000000</td>\n",
       "      <td>0.000000</td>\n",
       "    </tr>\n",
       "    <tr>\n",
       "      <th>50%</th>\n",
       "      <td>0.640000</td>\n",
       "      <td>0.720000</td>\n",
       "      <td>4.000000</td>\n",
       "      <td>200.000000</td>\n",
       "      <td>3.000000</td>\n",
       "      <td>0.000000</td>\n",
       "      <td>0.000000</td>\n",
       "      <td>0.000000</td>\n",
       "    </tr>\n",
       "    <tr>\n",
       "      <th>75%</th>\n",
       "      <td>0.820000</td>\n",
       "      <td>0.870000</td>\n",
       "      <td>5.000000</td>\n",
       "      <td>245.000000</td>\n",
       "      <td>4.000000</td>\n",
       "      <td>0.000000</td>\n",
       "      <td>0.000000</td>\n",
       "      <td>0.000000</td>\n",
       "    </tr>\n",
       "    <tr>\n",
       "      <th>max</th>\n",
       "      <td>1.000000</td>\n",
       "      <td>1.000000</td>\n",
       "      <td>7.000000</td>\n",
       "      <td>310.000000</td>\n",
       "      <td>10.000000</td>\n",
       "      <td>1.000000</td>\n",
       "      <td>1.000000</td>\n",
       "      <td>1.000000</td>\n",
       "    </tr>\n",
       "  </tbody>\n",
       "</table>\n",
       "</div>"
      ],
      "text/plain": [
       "       satisfaction_level  last_evaluation  number_project  \\\n",
       "count        14999.000000     14999.000000    14999.000000   \n",
       "mean             0.612834         0.716102        3.803054   \n",
       "std              0.248631         0.171169        1.232592   \n",
       "min              0.090000         0.360000        2.000000   \n",
       "25%              0.440000         0.560000        3.000000   \n",
       "50%              0.640000         0.720000        4.000000   \n",
       "75%              0.820000         0.870000        5.000000   \n",
       "max              1.000000         1.000000        7.000000   \n",
       "\n",
       "       average_montly_hours  time_spend_company  Work_accident          left  \\\n",
       "count          14999.000000        14999.000000   14999.000000  14999.000000   \n",
       "mean             201.050337            3.498233       0.144610      0.238083   \n",
       "std               49.943099            1.460136       0.351719      0.425924   \n",
       "min               96.000000            2.000000       0.000000      0.000000   \n",
       "25%              156.000000            3.000000       0.000000      0.000000   \n",
       "50%              200.000000            3.000000       0.000000      0.000000   \n",
       "75%              245.000000            4.000000       0.000000      0.000000   \n",
       "max              310.000000           10.000000       1.000000      1.000000   \n",
       "\n",
       "       promotion_last_5years  \n",
       "count           14999.000000  \n",
       "mean                0.021268  \n",
       "std                 0.144281  \n",
       "min                 0.000000  \n",
       "25%                 0.000000  \n",
       "50%                 0.000000  \n",
       "75%                 0.000000  \n",
       "max                 1.000000  "
      ]
     },
     "execution_count": 202,
     "metadata": {},
     "output_type": "execute_result"
    }
   ],
   "source": [
    "# 2 Рассчитайте основные статистики для переменных(среднее,медиана,мода,мин/макс,сред.отклонение). 10\n",
    "# title_list = df.columns.tolist()\n",
    "# print(*title_list, sep=\"\\n\")\n",
    "df.describe()\n",
    "\n",
    "# *************** Анализ данных *****************\n",
    "# satisfaction_level >>> \n",
    "# last_evaluation >>> \n",
    "# number_project >>> \n",
    "# average_montly_hours >>> \n",
    "# time_spend_company >>> \n",
    "# Work_accident >>> \n",
    "# left >>> \n",
    "# promotion_last_5years >>> \n",
    "# department >>> \n",
    "# salary >>> \n"
   ]
  },
  {
   "cell_type": "code",
   "execution_count": 203,
   "metadata": {},
   "outputs": [
    {
     "data": {
      "image/png": "[encoded data removed]",
      "text/plain": [
       "<Figure size 432x288 with 1 Axes>"
      ]
     },
     "metadata": {
      "needs_background": "light"
     },
     "output_type": "display_data"
    }
   ],
   "source": [
    "ax = sns.boxplot(data=df, \n",
    "                 order=['satisfaction_level'])"
   ]
  },
  {
   "cell_type": "code",
   "execution_count": 204,
   "metadata": {
    "colab": {
     "base_uri": "https://localhost:8080/",
     "height": 266
    },
    "executionInfo": {
     "elapsed": 371,
     "status": "ok",
     "timestamp": 1633105242112,
     "user": {
      "displayName": "Evg Zh",
      "photoUrl": "https://lh3.googleusercontent.com/a-/AOh14GjqSleym33sYsUX8b6dzPaw4QRJTmgqx8mD-f7C=s64",
      "userId": "15889342803596205096"
     },
     "user_tz": -420
    },
    "id": "mb0r8xZjlpXK",
    "outputId": "222e796b-ab5d-471c-a177-bf928a48fe5d"
   },
   "outputs": [
    {
     "data": {
      "image/png": "[encoded data removed]",
      "text/plain": [
       "<Figure size 432x288 with 1 Axes>"
      ]
     },
     "metadata": {
      "needs_background": "light"
     },
     "output_type": "display_data"
    }
   ],
   "source": [
    "ax = sns.boxplot(data=df, \n",
    "                 order=['average_montly_hours'])\n"
   ]
  },
  {
   "cell_type": "code",
   "execution_count": 205,
   "metadata": {
    "colab": {
     "base_uri": "https://localhost:8080/",
     "height": 266
    },
    "executionInfo": {
     "elapsed": 340,
     "status": "ok",
     "timestamp": 1633105259260,
     "user": {
      "displayName": "Evg Zh",
      "photoUrl": "https://lh3.googleusercontent.com/a-/AOh14GjqSleym33sYsUX8b6dzPaw4QRJTmgqx8mD-f7C=s64",
      "userId": "15889342803596205096"
     },
     "user_tz": -420
    },
    "id": "kgxsHRfopql-",
    "outputId": "f1b1a682-57c2-4520-a8a9-dfced591f85c"
   },
   "outputs": [
    {
     "data": {
      "text/plain": [
       "6     718\n",
       "10    214\n",
       "7     188\n",
       "8     162\n",
       "Name: time_spend_company, dtype: int64"
      ]
     },
     "execution_count": 205,
     "metadata": {},
     "output_type": "execute_result"
    },
    {
     "data": {
      "image/png": "[encoded data removed]",
      "text/plain": [
       "<Figure size 432x288 with 1 Axes>"
      ]
     },
     "metadata": {
      "needs_background": "light"
     },
     "output_type": "display_data"
    }
   ],
   "source": [
    "ax = sns.boxplot(data=df, \n",
    "                 order=['number_project', 'time_spend_company'])\n",
    "\n",
    "df[df['time_spend_company'] > 5]['time_spend_company'].value_counts()\n",
    "\n",
    "# Кажущиеся \"выбросы\" в \"time_spend_company\" таковыми не являются."
   ]
  },
  {
   "cell_type": "code",
   "execution_count": null,
   "metadata": {},
   "outputs": [],
   "source": []
  },
  {
   "cell_type": "code",
   "execution_count": 206,
   "metadata": {
    "colab": {
     "base_uri": "https://localhost:8080/",
     "height": 266
    },
    "executionInfo": {
     "elapsed": 346,
     "status": "ok",
     "timestamp": 1633105310138,
     "user": {
      "displayName": "Evg Zh",
      "photoUrl": "https://lh3.googleusercontent.com/a-/AOh14GjqSleym33sYsUX8b6dzPaw4QRJTmgqx8mD-f7C=s64",
      "userId": "15889342803596205096"
     },
     "user_tz": -420
    },
    "id": "uxpb5377qQhk",
    "outputId": "61c228aa-f6a9-46f7-8ac7-7ab9966b633d"
   },
   "outputs": [
    {
     "data": {
      "text/plain": [
       "Work_accident  left  promotion_last_5years\n",
       "0              0     0                        9200\n",
       "               1     0                        3387\n",
       "1              0     0                        1928\n",
       "0              0     1                         228\n",
       "1              1     0                         165\n",
       "               0     1                          72\n",
       "0              1     1                          15\n",
       "1              1     1                           4\n",
       "dtype: int64"
      ]
     },
     "execution_count": 206,
     "metadata": {},
     "output_type": "execute_result"
    },
    {
     "data": {
      "image/png": "[encoded data removed]",
      "text/plain": [
       "<Figure size 432x288 with 1 Axes>"
      ]
     },
     "metadata": {
      "needs_background": "light"
     },
     "output_type": "display_data"
    }
   ],
   "source": [
    "ax = sns.boxplot(data=df, \n",
    "                 order=['Work_accident', 'left', 'promotion_last_5years'])\n",
    "\n",
    "df[['Work_accident', 'left', 'promotion_last_5years']].value_counts()\n",
    "# 'Work_accident', 'left', 'promotion_last_5years' >>> бинарные столбцы, выбросов и пропусков нет"
   ]
  },
  {
   "cell_type": "code",
   "execution_count": 207,
   "metadata": {
    "colab": {
     "base_uri": "https://localhost:8080/",
     "height": 390
    },
    "executionInfo": {
     "elapsed": 394759,
     "status": "ok",
     "timestamp": 1633106717878,
     "user": {
      "displayName": "Evg Zh",
      "photoUrl": "https://lh3.googleusercontent.com/a-/AOh14GjqSleym33sYsUX8b6dzPaw4QRJTmgqx8mD-f7C=s64",
      "userId": "15889342803596205096"
     },
     "user_tz": -420
    },
    "id": "eQ8qcLdukK1H",
    "outputId": "280cf06e-925e-4c3e-8363-8fadaea5dafc"
   },
   "outputs": [
    {
     "data": {
      "text/plain": [
       "Text(0.5, 1.0, 'Корреляционная матрица для количественных переменных\\n')"
      ]
     },
     "execution_count": 207,
     "metadata": {},
     "output_type": "execute_result"
    },
    {
     "data": {
      "image/png": "[encoded data removed]",
      "text/plain": [
       "<Figure size 432x288 with 2 Axes>"
      ]
     },
     "metadata": {
      "needs_background": "light"
     },
     "output_type": "display_data"
    }
   ],
   "source": [
    "# 3 Рассчитайте и визуализируйте корреляционную матрицу для количественных переменных.\n",
    "# Определите две самые скоррелированные и две наименее скоррелированные переменные.10\n",
    "\n",
    "\n",
    "mask = np.tril(df[['satisfaction_level','last_evaluation','number_project','average_montly_hours','time_spend_company','Work_accident','promotion_last_5years']].corr())\n",
    "ax = sns.heatmap(df[['satisfaction_level','last_evaluation','number_project','average_montly_hours','time_spend_company','Work_accident','promotion_last_5years']].corr(), annot=True, mask=mask)\n",
    "plt.xticks(rotation=60)\n",
    "plt.title('Корреляционная матрица для количественных переменных\\n', size=24)\n"
   ]
  },
  {
   "cell_type": "code",
   "execution_count": 208,
   "metadata": {},
   "outputs": [
    {
     "name": "stdout",
     "output_type": "stream",
     "text": [
      "\n",
      "Пары с наибольшей абсолютной корреляцией:\n",
      "number_project   average_montly_hours     0.536712\n",
      "last_evaluation  average_montly_hours     0.414262\n",
      "number_project   promotion_last_5years    0.410936\n",
      "dtype: float64\n",
      "\n",
      "Пары с наименьшей абсолютной корреляцией:\n",
      "number_project        time_spend_company    0.022107\n",
      "average_montly_hours  time_spend_company    0.082229\n",
      "last_evaluation       time_spend_company    0.089952\n",
      "dtype: float64\n",
      "\n",
      "\n",
      "****Корреляция в табличном виде с подсветкой****\n"
     ]
    },
    {
     "data": {
      "text/html": [
       "<style type=\"text/css\">\n",
       "#T_a2242_row0_col0, #T_a2242_row1_col1, #T_a2242_row2_col2, #T_a2242_row3_col3, #T_a2242_row4_col4, #T_a2242_row5_col5, #T_a2242_row6_col6 {\n",
       "  background-color: #023858;\n",
       "  color: #f1f1f1;\n",
       "}\n",
       "#T_a2242_row0_col1, #T_a2242_row0_col4 {\n",
       "  background-color: #f0eaf4;\n",
       "  color: #000000;\n",
       "}\n",
       "#T_a2242_row0_col2 {\n",
       "  background-color: #e9e5f1;\n",
       "  color: #000000;\n",
       "}\n",
       "#T_a2242_row0_col3 {\n",
       "  background-color: #fdf5fa;\n",
       "  color: #000000;\n",
       "}\n",
       "#T_a2242_row0_col5 {\n",
       "  background-color: #f7f0f7;\n",
       "  color: #000000;\n",
       "}\n",
       "#T_a2242_row0_col6 {\n",
       "  background-color: #fcf4fa;\n",
       "  color: #000000;\n",
       "}\n",
       "#T_a2242_row1_col0, #T_a2242_row4_col0 {\n",
       "  background-color: #f2ecf5;\n",
       "  color: #000000;\n",
       "}\n",
       "#T_a2242_row1_col2, #T_a2242_row2_col1 {\n",
       "  background-color: #b0c2de;\n",
       "  color: #000000;\n",
       "}\n",
       "#T_a2242_row1_col3 {\n",
       "  background-color: #b3c3de;\n",
       "  color: #000000;\n",
       "}\n",
       "#T_a2242_row1_col4 {\n",
       "  background-color: #ebe6f2;\n",
       "  color: #000000;\n",
       "}\n",
       "#T_a2242_row1_col5, #T_a2242_row1_col6, #T_a2242_row5_col3, #T_a2242_row6_col0 {\n",
       "  background-color: #fef6fb;\n",
       "  color: #000000;\n",
       "}\n",
       "#T_a2242_row2_col0, #T_a2242_row3_col4, #T_a2242_row4_col1 {\n",
       "  background-color: #ece7f2;\n",
       "  color: #000000;\n",
       "}\n",
       "#T_a2242_row2_col3, #T_a2242_row3_col2 {\n",
       "  background-color: #96b6d7;\n",
       "  color: #000000;\n",
       "}\n",
       "#T_a2242_row2_col4, #T_a2242_row4_col2 {\n",
       "  background-color: #dddbec;\n",
       "  color: #000000;\n",
       "}\n",
       "#T_a2242_row2_col5, #T_a2242_row2_col6, #T_a2242_row3_col0, #T_a2242_row3_col6, #T_a2242_row4_col5, #T_a2242_row5_col1, #T_a2242_row5_col2, #T_a2242_row5_col4, #T_a2242_row6_col1, #T_a2242_row6_col2, #T_a2242_row6_col3 {\n",
       "  background-color: #fff7fb;\n",
       "  color: #000000;\n",
       "}\n",
       "#T_a2242_row3_col1 {\n",
       "  background-color: #b4c4df;\n",
       "  color: #000000;\n",
       "}\n",
       "#T_a2242_row3_col5 {\n",
       "  background-color: #fef6fa;\n",
       "  color: #000000;\n",
       "}\n",
       "#T_a2242_row4_col3 {\n",
       "  background-color: #ede7f2;\n",
       "  color: #000000;\n",
       "}\n",
       "#T_a2242_row4_col6, #T_a2242_row6_col4 {\n",
       "  background-color: #f5eff6;\n",
       "  color: #000000;\n",
       "}\n",
       "#T_a2242_row5_col0 {\n",
       "  background-color: #f9f2f8;\n",
       "  color: #000000;\n",
       "}\n",
       "#T_a2242_row5_col6, #T_a2242_row6_col5 {\n",
       "  background-color: #faf2f8;\n",
       "  color: #000000;\n",
       "}\n",
       "</style>\n",
       "<table id=\"T_a2242_\">\n",
       "  <thead>\n",
       "    <tr>\n",
       "      <th class=\"blank level0\" >&nbsp;</th>\n",
       "      <th class=\"col_heading level0 col0\" >satisfaction_level</th>\n",
       "      <th class=\"col_heading level0 col1\" >last_evaluation</th>\n",
       "      <th class=\"col_heading level0 col2\" >number_project</th>\n",
       "      <th class=\"col_heading level0 col3\" >average_montly_hours</th>\n",
       "      <th class=\"col_heading level0 col4\" >time_spend_company</th>\n",
       "      <th class=\"col_heading level0 col5\" >Work_accident</th>\n",
       "      <th class=\"col_heading level0 col6\" >promotion_last_5years</th>\n",
       "    </tr>\n",
       "  </thead>\n",
       "  <tbody>\n",
       "    <tr>\n",
       "      <th id=\"T_a2242_level0_row0\" class=\"row_heading level0 row0\" >satisfaction_level</th>\n",
       "      <td id=\"T_a2242_row0_col0\" class=\"data row0 col0\" >1.000000</td>\n",
       "      <td id=\"T_a2242_row0_col1\" class=\"data row0 col1\" >0.105021</td>\n",
       "      <td id=\"T_a2242_row0_col2\" class=\"data row0 col2\" >0.142970</td>\n",
       "      <td id=\"T_a2242_row0_col3\" class=\"data row0 col3\" >0.020048</td>\n",
       "      <td id=\"T_a2242_row0_col4\" class=\"data row0 col4\" >0.100866</td>\n",
       "      <td id=\"T_a2242_row0_col5\" class=\"data row0 col5\" >0.058697</td>\n",
       "      <td id=\"T_a2242_row0_col6\" class=\"data row0 col6\" >0.025605</td>\n",
       "    </tr>\n",
       "    <tr>\n",
       "      <th id=\"T_a2242_level0_row1\" class=\"row_heading level0 row1\" >last_evaluation</th>\n",
       "      <td id=\"T_a2242_row1_col0\" class=\"data row1 col0\" >0.105021</td>\n",
       "      <td id=\"T_a2242_row1_col1\" class=\"data row1 col1\" >1.000000</td>\n",
       "      <td id=\"T_a2242_row1_col2\" class=\"data row1 col2\" >0.349333</td>\n",
       "      <td id=\"T_a2242_row1_col3\" class=\"data row1 col3\" >0.339742</td>\n",
       "      <td id=\"T_a2242_row1_col4\" class=\"data row1 col4\" >0.131591</td>\n",
       "      <td id=\"T_a2242_row1_col5\" class=\"data row1 col5\" >0.007104</td>\n",
       "      <td id=\"T_a2242_row1_col6\" class=\"data row1 col6\" >0.008684</td>\n",
       "    </tr>\n",
       "    <tr>\n",
       "      <th id=\"T_a2242_level0_row2\" class=\"row_heading level0 row2\" >number_project</th>\n",
       "      <td id=\"T_a2242_row2_col0\" class=\"data row2 col0\" >0.142970</td>\n",
       "      <td id=\"T_a2242_row2_col1\" class=\"data row2 col1\" >0.349333</td>\n",
       "      <td id=\"T_a2242_row2_col2\" class=\"data row2 col2\" >1.000000</td>\n",
       "      <td id=\"T_a2242_row2_col3\" class=\"data row2 col3\" >0.417211</td>\n",
       "      <td id=\"T_a2242_row2_col4\" class=\"data row2 col4\" >0.196786</td>\n",
       "      <td id=\"T_a2242_row2_col5\" class=\"data row2 col5\" >0.004741</td>\n",
       "      <td id=\"T_a2242_row2_col6\" class=\"data row2 col6\" >0.006064</td>\n",
       "    </tr>\n",
       "    <tr>\n",
       "      <th id=\"T_a2242_level0_row3\" class=\"row_heading level0 row3\" >average_montly_hours</th>\n",
       "      <td id=\"T_a2242_row3_col0\" class=\"data row3 col0\" >0.020048</td>\n",
       "      <td id=\"T_a2242_row3_col1\" class=\"data row3 col1\" >0.339742</td>\n",
       "      <td id=\"T_a2242_row3_col2\" class=\"data row3 col2\" >0.417211</td>\n",
       "      <td id=\"T_a2242_row3_col3\" class=\"data row3 col3\" >1.000000</td>\n",
       "      <td id=\"T_a2242_row3_col4\" class=\"data row3 col4\" >0.127755</td>\n",
       "      <td id=\"T_a2242_row3_col5\" class=\"data row3 col5\" >0.010143</td>\n",
       "      <td id=\"T_a2242_row3_col6\" class=\"data row3 col6\" >0.003544</td>\n",
       "    </tr>\n",
       "    <tr>\n",
       "      <th id=\"T_a2242_level0_row4\" class=\"row_heading level0 row4\" >time_spend_company</th>\n",
       "      <td id=\"T_a2242_row4_col0\" class=\"data row4 col0\" >0.100866</td>\n",
       "      <td id=\"T_a2242_row4_col1\" class=\"data row4 col1\" >0.131591</td>\n",
       "      <td id=\"T_a2242_row4_col2\" class=\"data row4 col2\" >0.196786</td>\n",
       "      <td id=\"T_a2242_row4_col3\" class=\"data row4 col3\" >0.127755</td>\n",
       "      <td id=\"T_a2242_row4_col4\" class=\"data row4 col4\" >1.000000</td>\n",
       "      <td id=\"T_a2242_row4_col5\" class=\"data row4 col5\" >0.002120</td>\n",
       "      <td id=\"T_a2242_row4_col6\" class=\"data row4 col6\" >0.067433</td>\n",
       "    </tr>\n",
       "    <tr>\n",
       "      <th id=\"T_a2242_level0_row5\" class=\"row_heading level0 row5\" >Work_accident</th>\n",
       "      <td id=\"T_a2242_row5_col0\" class=\"data row5 col0\" >0.058697</td>\n",
       "      <td id=\"T_a2242_row5_col1\" class=\"data row5 col1\" >0.007104</td>\n",
       "      <td id=\"T_a2242_row5_col2\" class=\"data row5 col2\" >0.004741</td>\n",
       "      <td id=\"T_a2242_row5_col3\" class=\"data row5 col3\" >0.010143</td>\n",
       "      <td id=\"T_a2242_row5_col4\" class=\"data row5 col4\" >0.002120</td>\n",
       "      <td id=\"T_a2242_row5_col5\" class=\"data row5 col5\" >1.000000</td>\n",
       "      <td id=\"T_a2242_row5_col6\" class=\"data row5 col6\" >0.039245</td>\n",
       "    </tr>\n",
       "    <tr>\n",
       "      <th id=\"T_a2242_level0_row6\" class=\"row_heading level0 row6\" >promotion_last_5years</th>\n",
       "      <td id=\"T_a2242_row6_col0\" class=\"data row6 col0\" >0.025605</td>\n",
       "      <td id=\"T_a2242_row6_col1\" class=\"data row6 col1\" >0.008684</td>\n",
       "      <td id=\"T_a2242_row6_col2\" class=\"data row6 col2\" >0.006064</td>\n",
       "      <td id=\"T_a2242_row6_col3\" class=\"data row6 col3\" >0.003544</td>\n",
       "      <td id=\"T_a2242_row6_col4\" class=\"data row6 col4\" >0.067433</td>\n",
       "      <td id=\"T_a2242_row6_col5\" class=\"data row6 col5\" >0.039245</td>\n",
       "      <td id=\"T_a2242_row6_col6\" class=\"data row6 col6\" >1.000000</td>\n",
       "    </tr>\n",
       "  </tbody>\n",
       "</table>\n"
      ],
      "text/plain": [
       "<pandas.io.formats.style.Styler at 0x2cdf3b77dc0>"
      ]
     },
     "execution_count": 208,
     "metadata": {},
     "output_type": "execute_result"
    }
   ],
   "source": [
    "table = df[['satisfaction_level','last_evaluation','number_project','average_montly_hours','time_spend_company','Work_accident','promotion_last_5years']].corr().abs()\n",
    "\n",
    "def get_redundant_pairs(df_):\n",
    "    '''Получение корреляционных пар'''\n",
    "    pairs_to_drop = set()\n",
    "    cols = df_.columns\n",
    "    for i in range(0, df_.shape[1]):\n",
    "        for j in range(0, i+1):\n",
    "            pairs_to_drop.add((cols[i], cols[j]))\n",
    "    return pairs_to_drop\n",
    "\n",
    "def get_top_abs_correlations(df_, n=5):\n",
    "    au_corr = df_.corr().abs().unstack()\n",
    "    labels_to_drop = get_redundant_pairs(df_)\n",
    "    au_corr = au_corr.drop(labels=labels_to_drop).sort_values(ascending=False)\n",
    "    return au_corr[0:n]\n",
    "\n",
    "def get_bottom_abs_correlations(df_, n=5):\n",
    "    au_corr = df_.corr().abs().unstack()\n",
    "    labels_to_drop = get_redundant_pairs(df_)\n",
    "    au_corr = au_corr.drop(labels=labels_to_drop).sort_values(ascending=True)\n",
    "    return au_corr[0:n]\n",
    "\n",
    "print(\"\\nПары с наибольшей абсолютной корреляцией:\")\n",
    "print(get_top_abs_correlations(table, 3))\n",
    "print(\"\\nПары с наименьшей абсолютной корреляцией:\")\n",
    "print(get_bottom_abs_correlations(table, 3))\n",
    "\n",
    "print('\\n\\n****Корреляция в табличном виде с подсветкой****')\n",
    "table\n",
    "table.style.highlight_max(axis=0)\n",
    "table.style.background_gradient(cmap='PuBu')"
   ]
  },
  {
   "cell_type": "code",
   "execution_count": 209,
   "metadata": {
    "id": "xP70xzmwkK3w"
   },
   "outputs": [
    {
     "name": "stdout",
     "output_type": "stream",
     "text": [
      "Расчет количества сотрудников по департаментам:\n",
      "расчет произведен с учетом уволенных и работающих\n"
     ]
    },
    {
     "data": {
      "text/html": [
       "<div>\n",
       "<style scoped>\n",
       "    .dataframe tbody tr th:only-of-type {\n",
       "        vertical-align: middle;\n",
       "    }\n",
       "\n",
       "    .dataframe tbody tr th {\n",
       "        vertical-align: top;\n",
       "    }\n",
       "\n",
       "    .dataframe thead th {\n",
       "        text-align: right;\n",
       "    }\n",
       "</style>\n",
       "<table border=\"1\" class=\"dataframe\">\n",
       "  <thead>\n",
       "    <tr style=\"text-align: right;\">\n",
       "      <th>left_names</th>\n",
       "      <th>Работают</th>\n",
       "      <th>Уволены</th>\n",
       "    </tr>\n",
       "    <tr>\n",
       "      <th>department</th>\n",
       "      <th></th>\n",
       "      <th></th>\n",
       "    </tr>\n",
       "  </thead>\n",
       "  <tbody>\n",
       "    <tr>\n",
       "      <th>IT</th>\n",
       "      <td>273</td>\n",
       "      <td>954</td>\n",
       "    </tr>\n",
       "    <tr>\n",
       "      <th>RandD</th>\n",
       "      <td>121</td>\n",
       "      <td>666</td>\n",
       "    </tr>\n",
       "    <tr>\n",
       "      <th>accounting</th>\n",
       "      <td>204</td>\n",
       "      <td>563</td>\n",
       "    </tr>\n",
       "    <tr>\n",
       "      <th>hr</th>\n",
       "      <td>215</td>\n",
       "      <td>524</td>\n",
       "    </tr>\n",
       "    <tr>\n",
       "      <th>management</th>\n",
       "      <td>91</td>\n",
       "      <td>539</td>\n",
       "    </tr>\n",
       "    <tr>\n",
       "      <th>marketing</th>\n",
       "      <td>203</td>\n",
       "      <td>655</td>\n",
       "    </tr>\n",
       "    <tr>\n",
       "      <th>product_mng</th>\n",
       "      <td>198</td>\n",
       "      <td>704</td>\n",
       "    </tr>\n",
       "    <tr>\n",
       "      <th>sales</th>\n",
       "      <td>1014</td>\n",
       "      <td>3126</td>\n",
       "    </tr>\n",
       "    <tr>\n",
       "      <th>support</th>\n",
       "      <td>555</td>\n",
       "      <td>1674</td>\n",
       "    </tr>\n",
       "    <tr>\n",
       "      <th>technical</th>\n",
       "      <td>697</td>\n",
       "      <td>2023</td>\n",
       "    </tr>\n",
       "  </tbody>\n",
       "</table>\n",
       "</div>"
      ],
      "text/plain": [
       "left_names   Работают  Уволены\n",
       "department                    \n",
       "IT                273      954\n",
       "RandD             121      666\n",
       "accounting        204      563\n",
       "hr                215      524\n",
       "management         91      539\n",
       "marketing         203      655\n",
       "product_mng       198      704\n",
       "sales            1014     3126\n",
       "support           555     1674\n",
       "technical         697     2023"
      ]
     },
     "execution_count": 209,
     "metadata": {},
     "output_type": "execute_result"
    }
   ],
   "source": [
    "# 4 Рассчитайте сколько сотрудников работает в каждом департаменте. 5\n",
    "df['__flag'] = 1 # ввожу для накопительных расчетов\n",
    "df['left_names'] = ['Работают' if x == 1 else 'Уволены' for x in df['left']]\n",
    "table = pd.pivot_table(df, values='__flag', index=['department'], columns=['left_names'], aggfunc=np.sum, fill_value=0)\n",
    "print('Расчет количества сотрудников по департаментам:')\n",
    "print('расчет произведен с учетом уволенных и работающих')\n",
    "table"
   ]
  },
  {
   "cell_type": "code",
   "execution_count": 210,
   "metadata": {
    "id": "Vlh_XXxTkK63"
   },
   "outputs": [
    {
     "name": "stdout",
     "output_type": "stream",
     "text": [
      "\n",
      "***Распределение сотрудников по зарплатам***\n"
     ]
    },
    {
     "data": {
      "text/plain": [
       "low       7316\n",
       "medium    6446\n",
       "high      1237\n",
       "Name: salary, dtype: int64"
      ]
     },
     "execution_count": 210,
     "metadata": {},
     "output_type": "execute_result"
    },
    {
     "data": {
      "image/png": "[encoded data removed]",
      "text/plain": [
       "<Figure size 432x288 with 1 Axes>"
      ]
     },
     "metadata": {
      "needs_background": "light"
     },
     "output_type": "display_data"
    }
   ],
   "source": [
    "# 5 Показать распределение сотрудников по зарплатам.5\n",
    "\n",
    "table = pd.pivot_table(df, values='__flag', index=['department'], columns=['left_names'], aggfunc=np.sum, fill_value=0)\n",
    "df.salary.hist()\n",
    "pl.title('Распределение сотрудников по зарплатам\\n', size=24)\n",
    "pl.xlabel('Уровень зарплат', size=16)\n",
    "pl.ylabel('Количество сотрудников', size=16)\n",
    "\n",
    "print('\\n***Распределение сотрудников по зарплатам***')\n",
    "salary_table = df['salary'].value_counts()\n",
    "salary_table\n"
   ]
  },
  {
   "cell_type": "code",
   "execution_count": 211,
   "metadata": {
    "id": "NMAJ0FCpkhqG"
   },
   "outputs": [
    {
     "data": {
      "text/plain": [
       "Text(0.5, 1.0, 'Распределение сотрудников по зарплатам в каждом департаменте по отдельности\\n')"
      ]
     },
     "execution_count": 211,
     "metadata": {},
     "output_type": "execute_result"
    },
    {
     "data": {
      "image/png": "[encoded data removed]",
      "text/plain": [
       "<Figure size 1080x360 with 1 Axes>"
      ]
     },
     "metadata": {
      "needs_background": "light"
     },
     "output_type": "display_data"
    }
   ],
   "source": [
    "# 6 Показать распределение сотрудников по зарплатам в каждом департаменте по отдельности 5\n",
    "\n",
    "ax = sns.catplot(data=df.reset_index(), x='department', hue='salary', kind='count')\n",
    "\n",
    "ax.fig.set_size_inches(15,5)\n",
    "plt.legend(title='Уровень зарплат', fontsize = 16, title_fontsize= 18)\n",
    "plt.xticks(rotation=60)\n",
    "plt.xlabel(\"Подразделения\", size=16)\n",
    "plt.ylabel(\"Количество\", size=16)\n",
    "plt.title('Распределение сотрудников по зарплатам в каждом департаменте по отдельности\\n', size=24)"
   ]
  },
  {
   "cell_type": "code",
   "execution_count": 212,
   "metadata": {
    "id": "VsMT6hm6khva"
   },
   "outputs": [
    {
     "name": "stdout",
     "output_type": "stream",
     "text": [
      "result_low_mean=200.9965828321487\n",
      "result_medium_mean=201.33834936394663\n",
      "result_high_mean=199.86742118027485\n",
      "\n",
      "result= Ttest_indResult(statistic=0.7624331665385475, pvalue=0.4459045542257889)\n",
      "\n",
      "****Не отвергаем нулевую гипотезу****\n"
     ]
    }
   ],
   "source": [
    "# 7 Проверить гипотезу, что сотрудники с высоким окладом проводят на работе больше времени, \n",
    "# чем сотрудники с низким окладом 10\n",
    " \n",
    "# H0: среднее время, которое проводят на работе, сотрудники с высоким и низким уровнем зарплат ОДИНАКОВОЕ\n",
    "# H1: среднее время, которое проводят на работе, сотрудники с высоким и низким уровнем зарплат РАЗЛИЧАЮТСЯ\n",
    "alpha = 0.05\n",
    "\n",
    "result_low_mean = df[df['salary']=='low']['average_montly_hours'].mean()\n",
    "result_medium_mean = df[df['salary']=='medium']['average_montly_hours'].mean()\n",
    "result_high_mean = df[df['salary']=='high']['average_montly_hours'].mean()\n",
    "\n",
    "result = st.ttest_ind(df[df['salary']=='low']['average_montly_hours'], df[df['salary']=='high']['average_montly_hours'], equal_var=False)\n",
    "\n",
    "print(f'{result_low_mean=}\\n{result_medium_mean=}\\n{result_high_mean=}\\n')\n",
    "print(f'{result= }\\n')\n",
    "\n",
    "if (result.pvalue < alpha):\n",
    "    print('Отвергаем нулевую гипотезу, клиенты по разному относятся к продукции Apple и Samsung')\n",
    "else:\n",
    "    print('****Не отвергаем нулевую гипотезу****')"
   ]
  },
  {
   "cell_type": "code",
   "execution_count": 213,
   "metadata": {},
   "outputs": [
    {
     "data": {
      "text/plain": [
       "Text(0, 0.5, 'Частота')"
      ]
     },
     "execution_count": 213,
     "metadata": {},
     "output_type": "execute_result"
    },
    {
     "data": {
      "image/png": "[encoded data removed]",
      "text/plain": [
       "<Figure size 432x288 with 1 Axes>"
      ]
     },
     "metadata": {
      "needs_background": "light"
     },
     "output_type": "display_data"
    }
   ],
   "source": [
    "# Для наглядности - в подтвтерждение НЕ ОТВЕРЖЕНИЯ Н0\n",
    "df.groupby('salary')['average_montly_hours'].plot(kind='hist', \n",
    "                        alpha = 0.5,\n",
    "                        bins=20,\n",
    "                     density = True)\n",
    "plt.legend(title='Уровень зарплат', fontsize = 12, title_fontsize= 11)\n",
    "plt.title('Распределение времени работы сотрудников с различным уровнем З/П\\n', size=18)\n",
    "plt.ylabel(\"Частота\", size=16)"
   ]
  },
  {
   "cell_type": "code",
   "execution_count": 214,
   "metadata": {
    "id": "LMmneCBYkhz6"
   },
   "outputs": [
    {
     "name": "stdout",
     "output_type": "stream",
     "text": [
      "\n",
      "Доля сотрудников с повышением за последние 5 лет\n",
      "promotion_last_5y = 0.021268084538969265\n",
      "\n",
      "\n",
      "Средняя степень удовлетворенности\n",
      "satisfaction_level_mean = 0.6128335222348166\n",
      "\n",
      "Среднее количество проектов\n",
      "number_project_mean = 3.80305353690246\n"
     ]
    }
   ],
   "source": [
    "# 8 Рассчитать следующие показатели среди уволившихся и неуволившихся сотрудников (по отдельности): 10\n",
    "# ●Доля сотрудников с повышением за последние 5 лет\n",
    "# ●Средняя степень удовлетворенности\n",
    "# ●Среднее количество проектов \n",
    "df.reset_index()\n",
    "promotion_last_5y = (df[df['promotion_last_5years'] == 1].count() / df['promotion_last_5years'].count())[0]\n",
    "print(f'\\nДоля сотрудников с повышением за последние 5 лет\\n{promotion_last_5y = }\\n')\n",
    "\n",
    "satisfaction_level_mean = df['satisfaction_level'].mean()\n",
    "print(f'\\nСредняя степень удовлетворенности\\n{satisfaction_level_mean = }')\n",
    "\n",
    "\n",
    "number_project_mean = df['number_project'].mean()\n",
    "print(f'\\nСреднее количество проектов\\n{number_project_mean = }')"
   ]
  },
  {
   "cell_type": "code",
   "execution_count": 215,
   "metadata": {
    "id": "Xr7JCg-6kK9r"
   },
   "outputs": [
    {
     "name": "stdout",
     "output_type": "stream",
     "text": [
      "Делаем прогноз на тестовой выборке\n",
      "lda_predict_X_test = array([0, 0, 0, ..., 0, 0, 0], dtype=int64)\n",
      "\n",
      "Счетчик полученных результатов\n",
      "collections.Counter(lda_predict_X_test) = Counter({0: 3332, 1: 418})\n",
      "\n",
      "Построить модель LDA, предсказывающую уволился ли сотрудник на основе имеющихся факторов (кроме department и salary)\n",
      "\n",
      "Cмотрим разницу факта и прогноза\n",
      "        left  Unnamed 0\n",
      "5858    0.0        NaN\n",
      "1666    1.0        0.0\n",
      "1252    1.0        0.0\n",
      "5222    0.0        NaN\n",
      "7689    0.0        NaN\n",
      "...     ...        ...\n",
      "8460    0.0        NaN\n",
      "11584   0.0        NaN\n",
      "6497    0.0        NaN\n",
      "8562    0.0        NaN\n",
      "10808   0.0        NaN\n",
      "\n",
      "[3750 rows x 2 columns]\n",
      "\n",
      "***Для наглядности вывожу пары факта и прогноза:***\n",
      "result.value_counts() = left  Unnamed 0\n",
      "1.0   0.0          469\n",
      "0.0   0.0          370\n",
      "1.0   1.0           53\n",
      "0.0   1.0           47\n",
      "dtype: int64\n",
      "\n",
      "Оценить качество модели на тестовой выборки >>>\n",
      "accuracy_score(y_test, lda.predict(X_test)) = 0.7642666666666666\n",
      "\n",
      "\n",
      "Вывод для оптимизации модели нужно всеже, отсеить еще часть столбцов ... слишком много NaN\n"
     ]
    }
   ],
   "source": [
    "# 9 Разделить данные на тестовую и обучающую выборки\n",
    "\n",
    "# Построить модель LDA, предсказывающую уволился ли сотрудник на основе имеющихся факторов (кроме department иsalary)\n",
    "# Оценить качество модели на тестовой выборки2010\n",
    "\n",
    "\n",
    "# разделяем выборку на тренировочную и тестовую\n",
    "from sklearn.model_selection import train_test_split\n",
    "data = df[['satisfaction_level','last_evaluation','number_project','average_montly_hours','time_spend_company','Work_accident','promotion_last_5years']]\n",
    "data_class = df['left']\n",
    "X_train, X_test, y_train, y_test = train_test_split(data, data_class, test_size=0.25)\n",
    "\n",
    "# импортируем LDA-функционал\n",
    "from sklearn.discriminant_analysis import LinearDiscriminantAnalysis\n",
    "\n",
    "lda = LinearDiscriminantAnalysis()\n",
    "\n",
    "# обучаем данные\n",
    "lda.fit(X_train, y_train)\n",
    "\n",
    "# делаем прогноз на тестовой выборке\n",
    "print('Делаем прогноз на тестовой выборке')\n",
    "lda_predict_X_test = lda.predict(X_test)\n",
    "print(f'{lda_predict_X_test = }\\n')\n",
    "print('Счетчик полученных результатов')\n",
    "print(f'{collections.Counter(lda_predict_X_test) = }\\n')\n",
    "\n",
    "# смотрим разницу факта и прогноза\n",
    "print('Построить модель LDA, предсказывающую уволился ли сотрудник на основе имеющихся факторов (кроме department и salary)')\n",
    "result = pd.DataFrame([y_test, lda.predict(X_test)]).T\n",
    "print('\\nCмотрим разницу факта и прогноза\\n', result)\n",
    "print('\\n***Для наглядности вывожу пары факта и прогноза:***')\n",
    "print(f'{result.value_counts() = }\\n')\n",
    "\n",
    "from sklearn.metrics import accuracy_score\n",
    "print('Оценить качество модели на тестовой выборки >>>')\n",
    "print(f'{accuracy_score(y_test, lda.predict(X_test)) = }')\n",
    "# Вывод для оптимизации модели нужно всеже, отсеить еще часть столбцов ... слишком много NaN\n",
    "print('\\n\\nВывод для оптимизации модели нужно все же, отсеить еще часть столбцов ... слишком много NaN')"
   ]
  }
 ],
 "metadata": {
  "colab": {
   "authorship_tag": "ABX9TyNIWBQwVFiIW08/R2y1YMUj",
   "collapsed_sections": [],
   "name": "Копия блокнота \"Diplom-PYDA23-EvgZh.ipynb\"",
   "provenance": [
    {
     "file_id": "1R9w-1UeAlqVfvLtQ4kKl9hsCDDQcVJGt",
     "timestamp": 1634122313321
    }
   ]
  },
  "kernelspec": {
   "display_name": "Python 3 (ipykernel)",
   "language": "python",
   "name": "python3"
  },
  "language_info": {
   "codemirror_mode": {
    "name": "ipython",
    "version": 3
   },
   "file_extension": ".py",
   "mimetype": "text/x-python",
   "name": "python",
   "nbconvert_exporter": "python",
   "pygments_lexer": "ipython3",
   "version": "3.8.11"
  },
  "varInspector": {
   "cols": {
    "lenName": 16,
    "lenType": 16,
    "lenVar": 40
   },
   "kernels_config": {
    "python": {
     "delete_cmd_postfix": "",
     "delete_cmd_prefix": "del ",
     "library": "var_list.py",
     "varRefreshCmd": "print(var_dic_list())"
    },
    "r": {
     "delete_cmd_postfix": ") ",
     "delete_cmd_prefix": "rm(",
     "library": "var_list.r",
     "varRefreshCmd": "cat(var_dic_list()) "
    }
   },
   "types_to_exclude": [
    "module",
    "function",
    "builtin_function_or_method",
    "instance",
    "_Feature"
   ],
   "window_display": false
  }
 },
 "nbformat": 4,
 "nbformat_minor": 1
}
